{
 "cells": [
  {
   "cell_type": "markdown",
   "metadata": {},
   "source": [
    "# Dataset Shift\n",
    "## Implementing logistic regression on kmer data\n",
    "### 7/13/2020 Code clean up"
   ]
  },
  {
   "cell_type": "markdown",
   "metadata": {},
   "source": [
    "### Load libraries:"
   ]
  },
  {
   "cell_type": "code",
   "execution_count": 1,
   "metadata": {},
   "outputs": [],
   "source": [
    "import pandas as pd\n",
    "import numpy as np\n",
    "import matplotlib.pyplot as plt\n",
    "%matplotlib inline\n",
    "import math\n",
    "import seaborn as sns\n",
    "import sklearn"
   ]
  },
  {
   "cell_type": "markdown",
   "metadata": {},
   "source": [
    "## The data: even split"
   ]
  },
  {
   "cell_type": "markdown",
   "metadata": {},
   "source": [
    "### Load training sets "
   ]
  },
  {
   "cell_type": "code",
   "execution_count": 2,
   "metadata": {},
   "outputs": [],
   "source": [
    "# 10239 = virus\n",
    "virus_train = pd.read_csv('Kmer Data/Train even split/outputfile_10239_train_10ksplit.csv', header=None)\n",
    "\n",
    "# 2157 = archaea\n",
    "archaea_train = pd.read_csv('Kmer Data/Train even split/outputfile_2157_train_10ksplit.csv', header=None)\n",
    "\n",
    "# 2759 = eukaryote\n",
    "eukaryote_train = pd.read_csv('Kmer Data/Train even split/outputfile_2759_train_10ksplit.csv', header=None)\n",
    "\n",
    "# 2 = bacteria\n",
    "bacteria_train = pd.read_csv('Kmer Data/Train even split/outputfile_2_train_10ksplit.csv', header=None)"
   ]
  },
  {
   "cell_type": "markdown",
   "metadata": {},
   "source": [
    "### Load test sets"
   ]
  },
  {
   "cell_type": "code",
   "execution_count": 3,
   "metadata": {},
   "outputs": [],
   "source": [
    "# 10239 = virus\n",
    "virus_test = pd.read_csv('Kmer Data/Test even split/outputfile_10239_test_10ksplit.csv', header=None)\n",
    "\n",
    "# 2157 = archaea\n",
    "archaea_test = pd.read_csv('Kmer Data/Test even split/outputfile_2157_test_10ksplit.csv', header=None)\n",
    "\n",
    "# 2759 = eukaryote\n",
    "eukaryote_test = pd.read_csv('Kmer Data/Test even split/outputfile_2759_test_10ksplit.csv', header=None)\n",
    "\n",
    "# 2 = bacteria\n",
    "bacteria_test = pd.read_csv('Kmer Data/Test even split/outputfile_2_test_10ksplit.csv', header=None)"
   ]
  },
  {
   "cell_type": "code",
   "execution_count": 4,
   "metadata": {},
   "outputs": [
    {
     "data": {
      "text/html": [
       "<div>\n",
       "<style scoped>\n",
       "    .dataframe tbody tr th:only-of-type {\n",
       "        vertical-align: middle;\n",
       "    }\n",
       "\n",
       "    .dataframe tbody tr th {\n",
       "        vertical-align: top;\n",
       "    }\n",
       "\n",
       "    .dataframe thead th {\n",
       "        text-align: right;\n",
       "    }\n",
       "</style>\n",
       "<table border=\"1\" class=\"dataframe\">\n",
       "  <thead>\n",
       "    <tr style=\"text-align: right;\">\n",
       "      <th></th>\n",
       "      <th>0</th>\n",
       "      <th>1</th>\n",
       "      <th>2</th>\n",
       "      <th>3</th>\n",
       "      <th>4</th>\n",
       "      <th>5</th>\n",
       "      <th>6</th>\n",
       "      <th>7</th>\n",
       "      <th>8</th>\n",
       "      <th>9</th>\n",
       "      <th>...</th>\n",
       "      <th>127</th>\n",
       "      <th>128</th>\n",
       "      <th>129</th>\n",
       "      <th>130</th>\n",
       "      <th>131</th>\n",
       "      <th>132</th>\n",
       "      <th>133</th>\n",
       "      <th>134</th>\n",
       "      <th>135</th>\n",
       "      <th>136</th>\n",
       "    </tr>\n",
       "  </thead>\n",
       "  <tbody>\n",
       "    <tr>\n",
       "      <th>0</th>\n",
       "      <td>tid|1247113|NC_019027.1|pos|555..5555</td>\n",
       "      <td>0.923856</td>\n",
       "      <td>0.744270</td>\n",
       "      <td>0.950885</td>\n",
       "      <td>0.776531</td>\n",
       "      <td>1.218364</td>\n",
       "      <td>0.603688</td>\n",
       "      <td>0.525217</td>\n",
       "      <td>-0.881697</td>\n",
       "      <td>0.603688</td>\n",
       "      <td>...</td>\n",
       "      <td>0.322276</td>\n",
       "      <td>-0.034399</td>\n",
       "      <td>-0.476232</td>\n",
       "      <td>-0.533390</td>\n",
       "      <td>-0.322081</td>\n",
       "      <td>-0.275561</td>\n",
       "      <td>-1.757166</td>\n",
       "      <td>-1.064018</td>\n",
       "      <td>-0.188550</td>\n",
       "      <td>-0.968708</td>\n",
       "    </tr>\n",
       "    <tr>\n",
       "      <th>1</th>\n",
       "      <td>tid|1007869|NC_021347.1|pos|16460..21460</td>\n",
       "      <td>-2.908672</td>\n",
       "      <td>-2.215525</td>\n",
       "      <td>-4.216956</td>\n",
       "      <td>-1.116912</td>\n",
       "      <td>-0.711447</td>\n",
       "      <td>-0.510777</td>\n",
       "      <td>-0.606087</td>\n",
       "      <td>0.135851</td>\n",
       "      <td>-2.908672</td>\n",
       "      <td>...</td>\n",
       "      <td>0.646676</td>\n",
       "      <td>1.381788</td>\n",
       "      <td>0.525315</td>\n",
       "      <td>1.579965</td>\n",
       "      <td>1.613117</td>\n",
       "      <td>1.623928</td>\n",
       "      <td>1.422061</td>\n",
       "      <td>0.458624</td>\n",
       "      <td>1.134379</td>\n",
       "      <td>1.098661</td>\n",
       "    </tr>\n",
       "    <tr>\n",
       "      <th>2</th>\n",
       "      <td>tid|1147146|NC_019723.1|pos|32665..37665</td>\n",
       "      <td>1.051232</td>\n",
       "      <td>0.302822</td>\n",
       "      <td>0.767127</td>\n",
       "      <td>0.723325</td>\n",
       "      <td>0.450458</td>\n",
       "      <td>0.044993</td>\n",
       "      <td>-0.015632</td>\n",
       "      <td>-0.080171</td>\n",
       "      <td>0.836120</td>\n",
       "      <td>...</td>\n",
       "      <td>-0.080171</td>\n",
       "      <td>-1.083473</td>\n",
       "      <td>-0.536929</td>\n",
       "      <td>-0.114072</td>\n",
       "      <td>-0.390325</td>\n",
       "      <td>-0.842311</td>\n",
       "      <td>-0.648155</td>\n",
       "      <td>-1.284143</td>\n",
       "      <td>-0.916419</td>\n",
       "      <td>-0.842311</td>\n",
       "    </tr>\n",
       "    <tr>\n",
       "      <th>3</th>\n",
       "      <td>tid|1236000|NC_020204.1|pos|13189..18189</td>\n",
       "      <td>0.574149</td>\n",
       "      <td>0.405527</td>\n",
       "      <td>0.733214</td>\n",
       "      <td>0.320369</td>\n",
       "      <td>0.804166</td>\n",
       "      <td>0.464950</td>\n",
       "      <td>0.297896</td>\n",
       "      <td>0.320369</td>\n",
       "      <td>0.405527</td>\n",
       "      <td>...</td>\n",
       "      <td>0.483998</td>\n",
       "      <td>0.097225</td>\n",
       "      <td>-3.486294</td>\n",
       "      <td>-0.395251</td>\n",
       "      <td>0.124624</td>\n",
       "      <td>-0.350799</td>\n",
       "      <td>-0.713705</td>\n",
       "      <td>-0.713705</td>\n",
       "      <td>-0.085096</td>\n",
       "      <td>-1.406852</td>\n",
       "    </tr>\n",
       "  </tbody>\n",
       "</table>\n",
       "<p>4 rows × 137 columns</p>\n",
       "</div>"
      ],
      "text/plain": [
       "                                        0         1         2         3    \\\n",
       "0     tid|1247113|NC_019027.1|pos|555..5555  0.923856  0.744270  0.950885   \n",
       "1  tid|1007869|NC_021347.1|pos|16460..21460 -2.908672 -2.215525 -4.216956   \n",
       "2  tid|1147146|NC_019723.1|pos|32665..37665  1.051232  0.302822  0.767127   \n",
       "3  tid|1236000|NC_020204.1|pos|13189..18189  0.574149  0.405527  0.733214   \n",
       "\n",
       "        4         5         6         7         8         9    ...       127  \\\n",
       "0  0.776531  1.218364  0.603688  0.525217 -0.881697  0.603688  ...  0.322276   \n",
       "1 -1.116912 -0.711447 -0.510777 -0.606087  0.135851 -2.908672  ...  0.646676   \n",
       "2  0.723325  0.450458  0.044993 -0.015632 -0.080171  0.836120  ... -0.080171   \n",
       "3  0.320369  0.804166  0.464950  0.297896  0.320369  0.405527  ...  0.483998   \n",
       "\n",
       "        128       129       130       131       132       133       134  \\\n",
       "0 -0.034399 -0.476232 -0.533390 -0.322081 -0.275561 -1.757166 -1.064018   \n",
       "1  1.381788  0.525315  1.579965  1.613117  1.623928  1.422061  0.458624   \n",
       "2 -1.083473 -0.536929 -0.114072 -0.390325 -0.842311 -0.648155 -1.284143   \n",
       "3  0.097225 -3.486294 -0.395251  0.124624 -0.350799 -0.713705 -0.713705   \n",
       "\n",
       "        135       136  \n",
       "0 -0.188550 -0.968708  \n",
       "1  1.134379  1.098661  \n",
       "2 -0.916419 -0.842311  \n",
       "3 -0.085096 -1.406852  \n",
       "\n",
       "[4 rows x 137 columns]"
      ]
     },
     "execution_count": 4,
     "metadata": {},
     "output_type": "execute_result"
    }
   ],
   "source": [
    "# taking virus and bacteria as first pass examples\n",
    "\n",
    "virus_train.head(4)"
   ]
  },
  {
   "cell_type": "code",
   "execution_count": 5,
   "metadata": {},
   "outputs": [
    {
     "data": {
      "text/html": [
       "<div>\n",
       "<style scoped>\n",
       "    .dataframe tbody tr th:only-of-type {\n",
       "        vertical-align: middle;\n",
       "    }\n",
       "\n",
       "    .dataframe tbody tr th {\n",
       "        vertical-align: top;\n",
       "    }\n",
       "\n",
       "    .dataframe thead th {\n",
       "        text-align: right;\n",
       "    }\n",
       "</style>\n",
       "<table border=\"1\" class=\"dataframe\">\n",
       "  <thead>\n",
       "    <tr style=\"text-align: right;\">\n",
       "      <th></th>\n",
       "      <th>0</th>\n",
       "      <th>1</th>\n",
       "      <th>2</th>\n",
       "      <th>3</th>\n",
       "      <th>4</th>\n",
       "      <th>5</th>\n",
       "      <th>6</th>\n",
       "      <th>7</th>\n",
       "      <th>8</th>\n",
       "      <th>9</th>\n",
       "      <th>...</th>\n",
       "      <th>127</th>\n",
       "      <th>128</th>\n",
       "      <th>129</th>\n",
       "      <th>130</th>\n",
       "      <th>131</th>\n",
       "      <th>132</th>\n",
       "      <th>133</th>\n",
       "      <th>134</th>\n",
       "      <th>135</th>\n",
       "      <th>136</th>\n",
       "    </tr>\n",
       "  </thead>\n",
       "  <tbody>\n",
       "    <tr>\n",
       "      <th>0</th>\n",
       "      <td>tid|1310670|NZ_JEXS01000008.1|pos|102961..107961</td>\n",
       "      <td>1.477226</td>\n",
       "      <td>0.791683</td>\n",
       "      <td>1.446215</td>\n",
       "      <td>0.984055</td>\n",
       "      <td>0.645080</td>\n",
       "      <td>0.067764</td>\n",
       "      <td>0.919516</td>\n",
       "      <td>0.493849</td>\n",
       "      <td>1.293376</td>\n",
       "      <td>...</td>\n",
       "      <td>0.185547</td>\n",
       "      <td>-0.306929</td>\n",
       "      <td>-1.606212</td>\n",
       "      <td>-0.306929</td>\n",
       "      <td>0.098536</td>\n",
       "      <td>-0.564758</td>\n",
       "      <td>-0.689922</td>\n",
       "      <td>-0.507600</td>\n",
       "      <td>-0.402239</td>\n",
       "      <td>-1.606212</td>\n",
       "    </tr>\n",
       "    <tr>\n",
       "      <th>1</th>\n",
       "      <td>tid|1100828|NZ_KZ303840.1|pos|418339..423339</td>\n",
       "      <td>-4.064565</td>\n",
       "      <td>-1.147005</td>\n",
       "      <td>-4.064565</td>\n",
       "      <td>-2.756443</td>\n",
       "      <td>-0.271537</td>\n",
       "      <td>0.133929</td>\n",
       "      <td>0.076770</td>\n",
       "      <td>0.677544</td>\n",
       "      <td>-4.064565</td>\n",
       "      <td>...</td>\n",
       "      <td>1.114758</td>\n",
       "      <td>1.613005</td>\n",
       "      <td>0.709293</td>\n",
       "      <td>1.506237</td>\n",
       "      <td>0.981226</td>\n",
       "      <td>2.031049</td>\n",
       "      <td>1.286608</td>\n",
       "      <td>0.016146</td>\n",
       "      <td>1.463065</td>\n",
       "      <td>1.506237</td>\n",
       "    </tr>\n",
       "    <tr>\n",
       "      <th>2</th>\n",
       "      <td>tid|1249621|NZ_ANKP01000254.1|pos|20243..25243</td>\n",
       "      <td>-1.797869</td>\n",
       "      <td>-0.139641</td>\n",
       "      <td>-0.619214</td>\n",
       "      <td>-0.786268</td>\n",
       "      <td>-0.006109</td>\n",
       "      <td>0.111674</td>\n",
       "      <td>-1.104722</td>\n",
       "      <td>0.504716</td>\n",
       "      <td>-0.699257</td>\n",
       "      <td>...</td>\n",
       "      <td>0.342197</td>\n",
       "      <td>0.876280</td>\n",
       "      <td>0.504716</td>\n",
       "      <td>0.644478</td>\n",
       "      <td>1.197863</td>\n",
       "      <td>1.119902</td>\n",
       "      <td>1.400804</td>\n",
       "      <td>-0.699257</td>\n",
       "      <td>0.479398</td>\n",
       "      <td>0.926711</td>\n",
       "    </tr>\n",
       "    <tr>\n",
       "      <th>3</th>\n",
       "      <td>tid|1005518|NZ_AKLW01000071.1|pos|203..5203</td>\n",
       "      <td>-0.194704</td>\n",
       "      <td>0.161971</td>\n",
       "      <td>-0.092922</td>\n",
       "      <td>0.424335</td>\n",
       "      <td>0.234291</td>\n",
       "      <td>0.516143</td>\n",
       "      <td>0.056610</td>\n",
       "      <td>0.056610</td>\n",
       "      <td>-0.435866</td>\n",
       "      <td>...</td>\n",
       "      <td>0.257281</td>\n",
       "      <td>0.210761</td>\n",
       "      <td>-1.329684</td>\n",
       "      <td>0.028439</td>\n",
       "      <td>0.110677</td>\n",
       "      <td>0.110677</td>\n",
       "      <td>-0.754320</td>\n",
       "      <td>-0.636537</td>\n",
       "      <td>-0.000548</td>\n",
       "      <td>-0.435866</td>\n",
       "    </tr>\n",
       "  </tbody>\n",
       "</table>\n",
       "<p>4 rows × 137 columns</p>\n",
       "</div>"
      ],
      "text/plain": [
       "                                                0         1         2    \\\n",
       "0  tid|1310670|NZ_JEXS01000008.1|pos|102961..107961  1.477226  0.791683   \n",
       "1      tid|1100828|NZ_KZ303840.1|pos|418339..423339 -4.064565 -1.147005   \n",
       "2    tid|1249621|NZ_ANKP01000254.1|pos|20243..25243 -1.797869 -0.139641   \n",
       "3       tid|1005518|NZ_AKLW01000071.1|pos|203..5203 -0.194704  0.161971   \n",
       "\n",
       "        3         4         5         6         7         8         9    ...  \\\n",
       "0  1.446215  0.984055  0.645080  0.067764  0.919516  0.493849  1.293376  ...   \n",
       "1 -4.064565 -2.756443 -0.271537  0.133929  0.076770  0.677544 -4.064565  ...   \n",
       "2 -0.619214 -0.786268 -0.006109  0.111674 -1.104722  0.504716 -0.699257  ...   \n",
       "3 -0.092922  0.424335  0.234291  0.516143  0.056610  0.056610 -0.435866  ...   \n",
       "\n",
       "        127       128       129       130       131       132       133  \\\n",
       "0  0.185547 -0.306929 -1.606212 -0.306929  0.098536 -0.564758 -0.689922   \n",
       "1  1.114758  1.613005  0.709293  1.506237  0.981226  2.031049  1.286608   \n",
       "2  0.342197  0.876280  0.504716  0.644478  1.197863  1.119902  1.400804   \n",
       "3  0.257281  0.210761 -1.329684  0.028439  0.110677  0.110677 -0.754320   \n",
       "\n",
       "        134       135       136  \n",
       "0 -0.507600 -0.402239 -1.606212  \n",
       "1  0.016146  1.463065  1.506237  \n",
       "2 -0.699257  0.479398  0.926711  \n",
       "3 -0.636537 -0.000548 -0.435866  \n",
       "\n",
       "[4 rows x 137 columns]"
      ]
     },
     "execution_count": 5,
     "metadata": {},
     "output_type": "execute_result"
    }
   ],
   "source": [
    "bacteria_train.head(4)"
   ]
  },
  {
   "cell_type": "markdown",
   "metadata": {},
   "source": [
    "### Remove the first column from each data set"
   ]
  },
  {
   "cell_type": "code",
   "execution_count": 6,
   "metadata": {},
   "outputs": [],
   "source": [
    "virus_train = virus_train.drop(labels=[0], axis = 1)\n",
    "virus_test = virus_test.drop([0], axis = 1)\n",
    "\n",
    "bacteria_train = bacteria_train.drop([0], axis = 1)\n",
    "bacteria_test = bacteria_test.drop([0], axis = 1)\n",
    "\n",
    "eukaryote_train = eukaryote_train.drop([0], axis = 1)\n",
    "eukaryote_test = eukaryote_test.drop([0], axis = 1)\n",
    "\n",
    "archaea_train = archaea_train.drop([0], axis = 1)\n",
    "archaea_test = archaea_test.drop([0], axis = 1)\n"
   ]
  },
  {
   "cell_type": "code",
   "execution_count": 7,
   "metadata": {},
   "outputs": [
    {
     "data": {
      "text/html": [
       "<div>\n",
       "<style scoped>\n",
       "    .dataframe tbody tr th:only-of-type {\n",
       "        vertical-align: middle;\n",
       "    }\n",
       "\n",
       "    .dataframe tbody tr th {\n",
       "        vertical-align: top;\n",
       "    }\n",
       "\n",
       "    .dataframe thead th {\n",
       "        text-align: right;\n",
       "    }\n",
       "</style>\n",
       "<table border=\"1\" class=\"dataframe\">\n",
       "  <thead>\n",
       "    <tr style=\"text-align: right;\">\n",
       "      <th></th>\n",
       "      <th>1</th>\n",
       "      <th>2</th>\n",
       "      <th>3</th>\n",
       "      <th>4</th>\n",
       "      <th>5</th>\n",
       "      <th>6</th>\n",
       "      <th>7</th>\n",
       "      <th>8</th>\n",
       "      <th>9</th>\n",
       "      <th>10</th>\n",
       "      <th>...</th>\n",
       "      <th>127</th>\n",
       "      <th>128</th>\n",
       "      <th>129</th>\n",
       "      <th>130</th>\n",
       "      <th>131</th>\n",
       "      <th>132</th>\n",
       "      <th>133</th>\n",
       "      <th>134</th>\n",
       "      <th>135</th>\n",
       "      <th>136</th>\n",
       "    </tr>\n",
       "  </thead>\n",
       "  <tbody>\n",
       "    <tr>\n",
       "      <th>0</th>\n",
       "      <td>1.151937</td>\n",
       "      <td>0.821273</td>\n",
       "      <td>0.821273</td>\n",
       "      <td>0.861013</td>\n",
       "      <td>0.577651</td>\n",
       "      <td>0.230780</td>\n",
       "      <td>0.230780</td>\n",
       "      <td>0.206087</td>\n",
       "      <td>0.560259</td>\n",
       "      <td>0.323870</td>\n",
       "      <td>...</td>\n",
       "      <td>0.128126</td>\n",
       "      <td>-0.115496</td>\n",
       "      <td>-0.649579</td>\n",
       "      <td>0.128126</td>\n",
       "      <td>-0.438270</td>\n",
       "      <td>-0.150588</td>\n",
       "      <td>-1.873354</td>\n",
       "      <td>-1.180207</td>\n",
       "      <td>-0.438270</td>\n",
       "      <td>-1.084897</td>\n",
       "    </tr>\n",
       "    <tr>\n",
       "      <th>1</th>\n",
       "      <td>2.281440</td>\n",
       "      <td>1.172778</td>\n",
       "      <td>1.425774</td>\n",
       "      <td>1.608096</td>\n",
       "      <td>1.273582</td>\n",
       "      <td>0.767313</td>\n",
       "      <td>1.008475</td>\n",
       "      <td>-3.016877</td>\n",
       "      <td>0.972107</td>\n",
       "      <td>0.696695</td>\n",
       "      <td>...</td>\n",
       "      <td>0.384320</td>\n",
       "      <td>-0.308827</td>\n",
       "      <td>-0.531970</td>\n",
       "      <td>0.161177</td>\n",
       "      <td>0.509484</td>\n",
       "      <td>0.118617</td>\n",
       "      <td>-4.325161</td>\n",
       "      <td>-0.819652</td>\n",
       "      <td>-0.244288</td>\n",
       "      <td>-0.183664</td>\n",
       "    </tr>\n",
       "    <tr>\n",
       "      <th>2</th>\n",
       "      <td>1.039521</td>\n",
       "      <td>0.161803</td>\n",
       "      <td>0.661759</td>\n",
       "      <td>0.799380</td>\n",
       "      <td>0.312085</td>\n",
       "      <td>0.077245</td>\n",
       "      <td>0.357547</td>\n",
       "      <td>-0.615902</td>\n",
       "      <td>0.422086</td>\n",
       "      <td>0.312085</td>\n",
       "      <td>...</td>\n",
       "      <td>0.016621</td>\n",
       "      <td>-0.810058</td>\n",
       "      <td>-1.051220</td>\n",
       "      <td>0.106233</td>\n",
       "      <td>0.047392</td>\n",
       "      <td>-0.116911</td>\n",
       "      <td>-1.369674</td>\n",
       "      <td>-0.741065</td>\n",
       "      <td>-0.558744</td>\n",
       "      <td>-1.051220</td>\n",
       "    </tr>\n",
       "  </tbody>\n",
       "</table>\n",
       "<p>3 rows × 136 columns</p>\n",
       "</div>"
      ],
      "text/plain": [
       "        1         2         3         4         5         6         7    \\\n",
       "0  1.151937  0.821273  0.821273  0.861013  0.577651  0.230780  0.230780   \n",
       "1  2.281440  1.172778  1.425774  1.608096  1.273582  0.767313  1.008475   \n",
       "2  1.039521  0.161803  0.661759  0.799380  0.312085  0.077245  0.357547   \n",
       "\n",
       "        8         9         10   ...       127       128       129       130  \\\n",
       "0  0.206087  0.560259  0.323870  ...  0.128126 -0.115496 -0.649579  0.128126   \n",
       "1 -3.016877  0.972107  0.696695  ...  0.384320 -0.308827 -0.531970  0.161177   \n",
       "2 -0.615902  0.422086  0.312085  ...  0.016621 -0.810058 -1.051220  0.106233   \n",
       "\n",
       "        131       132       133       134       135       136  \n",
       "0 -0.438270 -0.150588 -1.873354 -1.180207 -0.438270 -1.084897  \n",
       "1  0.509484  0.118617 -4.325161 -0.819652 -0.244288 -0.183664  \n",
       "2  0.047392 -0.116911 -1.369674 -0.741065 -0.558744 -1.051220  \n",
       "\n",
       "[3 rows x 136 columns]"
      ]
     },
     "execution_count": 7,
     "metadata": {},
     "output_type": "execute_result"
    }
   ],
   "source": [
    "# quick visual confirm\n",
    "virus_test.head(3)\n",
    "\n",
    "# successfully removed the first column"
   ]
  },
  {
   "cell_type": "code",
   "execution_count": 8,
   "metadata": {},
   "outputs": [
    {
     "data": {
      "text/html": [
       "<div>\n",
       "<style scoped>\n",
       "    .dataframe tbody tr th:only-of-type {\n",
       "        vertical-align: middle;\n",
       "    }\n",
       "\n",
       "    .dataframe tbody tr th {\n",
       "        vertical-align: top;\n",
       "    }\n",
       "\n",
       "    .dataframe thead th {\n",
       "        text-align: right;\n",
       "    }\n",
       "</style>\n",
       "<table border=\"1\" class=\"dataframe\">\n",
       "  <thead>\n",
       "    <tr style=\"text-align: right;\">\n",
       "      <th></th>\n",
       "      <th>1</th>\n",
       "      <th>2</th>\n",
       "      <th>3</th>\n",
       "      <th>4</th>\n",
       "      <th>5</th>\n",
       "      <th>6</th>\n",
       "      <th>7</th>\n",
       "      <th>8</th>\n",
       "      <th>9</th>\n",
       "      <th>10</th>\n",
       "      <th>...</th>\n",
       "      <th>127</th>\n",
       "      <th>128</th>\n",
       "      <th>129</th>\n",
       "      <th>130</th>\n",
       "      <th>131</th>\n",
       "      <th>132</th>\n",
       "      <th>133</th>\n",
       "      <th>134</th>\n",
       "      <th>135</th>\n",
       "      <th>136</th>\n",
       "    </tr>\n",
       "  </thead>\n",
       "  <tbody>\n",
       "    <tr>\n",
       "      <th>count</th>\n",
       "      <td>1183.000000</td>\n",
       "      <td>1183.000000</td>\n",
       "      <td>1183.000000</td>\n",
       "      <td>1183.000000</td>\n",
       "      <td>1183.000000</td>\n",
       "      <td>1183.000000</td>\n",
       "      <td>1183.000000</td>\n",
       "      <td>1183.000000</td>\n",
       "      <td>1183.000000</td>\n",
       "      <td>1183.000000</td>\n",
       "      <td>...</td>\n",
       "      <td>1183.000000</td>\n",
       "      <td>1183.000000</td>\n",
       "      <td>1183.000000</td>\n",
       "      <td>1183.000000</td>\n",
       "      <td>1183.000000</td>\n",
       "      <td>1183.000000</td>\n",
       "      <td>1183.000000</td>\n",
       "      <td>1183.000000</td>\n",
       "      <td>1183.000000</td>\n",
       "      <td>1183.000000</td>\n",
       "    </tr>\n",
       "    <tr>\n",
       "      <th>mean</th>\n",
       "      <td>0.690509</td>\n",
       "      <td>0.462850</td>\n",
       "      <td>0.502993</td>\n",
       "      <td>0.536703</td>\n",
       "      <td>0.598076</td>\n",
       "      <td>0.309945</td>\n",
       "      <td>0.364149</td>\n",
       "      <td>-0.109253</td>\n",
       "      <td>0.266177</td>\n",
       "      <td>0.319065</td>\n",
       "      <td>...</td>\n",
       "      <td>0.279391</td>\n",
       "      <td>-0.047368</td>\n",
       "      <td>-1.100607</td>\n",
       "      <td>-0.013944</td>\n",
       "      <td>-0.055836</td>\n",
       "      <td>-0.384030</td>\n",
       "      <td>-1.409690</td>\n",
       "      <td>-0.715855</td>\n",
       "      <td>-0.203151</td>\n",
       "      <td>-1.321033</td>\n",
       "    </tr>\n",
       "    <tr>\n",
       "      <th>std</th>\n",
       "      <td>0.962970</td>\n",
       "      <td>0.548283</td>\n",
       "      <td>0.940678</td>\n",
       "      <td>0.613724</td>\n",
       "      <td>0.426655</td>\n",
       "      <td>0.272487</td>\n",
       "      <td>0.490833</td>\n",
       "      <td>0.695189</td>\n",
       "      <td>0.954594</td>\n",
       "      <td>0.588165</td>\n",
       "      <td>...</td>\n",
       "      <td>0.339419</td>\n",
       "      <td>0.548357</td>\n",
       "      <td>1.140841</td>\n",
       "      <td>0.513201</td>\n",
       "      <td>0.448040</td>\n",
       "      <td>0.949714</td>\n",
       "      <td>1.394965</td>\n",
       "      <td>0.500410</td>\n",
       "      <td>0.652111</td>\n",
       "      <td>1.413436</td>\n",
       "    </tr>\n",
       "    <tr>\n",
       "      <th>min</th>\n",
       "      <td>-4.680319</td>\n",
       "      <td>-2.501494</td>\n",
       "      <td>-4.160824</td>\n",
       "      <td>-2.223106</td>\n",
       "      <td>-1.544223</td>\n",
       "      <td>-1.167070</td>\n",
       "      <td>-1.544223</td>\n",
       "      <td>-4.415136</td>\n",
       "      <td>-4.511126</td>\n",
       "      <td>-4.231728</td>\n",
       "      <td>...</td>\n",
       "      <td>-0.694762</td>\n",
       "      <td>-2.934649</td>\n",
       "      <td>-4.756667</td>\n",
       "      <td>-1.590454</td>\n",
       "      <td>-2.083291</td>\n",
       "      <td>-4.416759</td>\n",
       "      <td>-4.689750</td>\n",
       "      <td>-2.757709</td>\n",
       "      <td>-2.284142</td>\n",
       "      <td>-4.758439</td>\n",
       "    </tr>\n",
       "    <tr>\n",
       "      <th>25%</th>\n",
       "      <td>0.203977</td>\n",
       "      <td>0.167541</td>\n",
       "      <td>0.086959</td>\n",
       "      <td>0.275086</td>\n",
       "      <td>0.329228</td>\n",
       "      <td>0.149135</td>\n",
       "      <td>0.033441</td>\n",
       "      <td>-0.479573</td>\n",
       "      <td>-0.249895</td>\n",
       "      <td>-0.010224</td>\n",
       "      <td>...</td>\n",
       "      <td>0.035802</td>\n",
       "      <td>-0.388233</td>\n",
       "      <td>-1.313533</td>\n",
       "      <td>-0.312271</td>\n",
       "      <td>-0.369149</td>\n",
       "      <td>-0.942597</td>\n",
       "      <td>-2.184850</td>\n",
       "      <td>-0.999656</td>\n",
       "      <td>-0.618043</td>\n",
       "      <td>-2.024367</td>\n",
       "    </tr>\n",
       "    <tr>\n",
       "      <th>50%</th>\n",
       "      <td>0.786237</td>\n",
       "      <td>0.513475</td>\n",
       "      <td>0.577759</td>\n",
       "      <td>0.593001</td>\n",
       "      <td>0.600820</td>\n",
       "      <td>0.296540</td>\n",
       "      <td>0.389595</td>\n",
       "      <td>0.069304</td>\n",
       "      <td>0.383010</td>\n",
       "      <td>0.431130</td>\n",
       "      <td>...</td>\n",
       "      <td>0.266474</td>\n",
       "      <td>-0.065067</td>\n",
       "      <td>-0.813454</td>\n",
       "      <td>-0.027865</td>\n",
       "      <td>-0.014863</td>\n",
       "      <td>-0.418524</td>\n",
       "      <td>-1.188133</td>\n",
       "      <td>-0.748871</td>\n",
       "      <td>-0.185315</td>\n",
       "      <td>-1.009700</td>\n",
       "    </tr>\n",
       "    <tr>\n",
       "      <th>75%</th>\n",
       "      <td>1.296737</td>\n",
       "      <td>0.823681</td>\n",
       "      <td>1.134223</td>\n",
       "      <td>0.916507</td>\n",
       "      <td>0.870866</td>\n",
       "      <td>0.478158</td>\n",
       "      <td>0.723837</td>\n",
       "      <td>0.361015</td>\n",
       "      <td>0.842620</td>\n",
       "      <td>0.680238</td>\n",
       "      <td>...</td>\n",
       "      <td>0.500903</td>\n",
       "      <td>0.277808</td>\n",
       "      <td>-0.406336</td>\n",
       "      <td>0.231237</td>\n",
       "      <td>0.251660</td>\n",
       "      <td>0.298140</td>\n",
       "      <td>-0.494342</td>\n",
       "      <td>-0.405844</td>\n",
       "      <td>0.167522</td>\n",
       "      <td>-0.396624</td>\n",
       "    </tr>\n",
       "    <tr>\n",
       "      <th>max</th>\n",
       "      <td>2.764825</td>\n",
       "      <td>1.630281</td>\n",
       "      <td>2.684958</td>\n",
       "      <td>1.921679</td>\n",
       "      <td>1.625861</td>\n",
       "      <td>2.333396</td>\n",
       "      <td>1.578393</td>\n",
       "      <td>0.948130</td>\n",
       "      <td>2.473476</td>\n",
       "      <td>1.777087</td>\n",
       "      <td>...</td>\n",
       "      <td>1.346306</td>\n",
       "      <td>1.813794</td>\n",
       "      <td>0.613177</td>\n",
       "      <td>1.900460</td>\n",
       "      <td>1.689340</td>\n",
       "      <td>2.699499</td>\n",
       "      <td>2.381045</td>\n",
       "      <td>1.094319</td>\n",
       "      <td>2.011000</td>\n",
       "      <td>1.952631</td>\n",
       "    </tr>\n",
       "  </tbody>\n",
       "</table>\n",
       "<p>8 rows × 136 columns</p>\n",
       "</div>"
      ],
      "text/plain": [
       "               1            2            3            4            5    \\\n",
       "count  1183.000000  1183.000000  1183.000000  1183.000000  1183.000000   \n",
       "mean      0.690509     0.462850     0.502993     0.536703     0.598076   \n",
       "std       0.962970     0.548283     0.940678     0.613724     0.426655   \n",
       "min      -4.680319    -2.501494    -4.160824    -2.223106    -1.544223   \n",
       "25%       0.203977     0.167541     0.086959     0.275086     0.329228   \n",
       "50%       0.786237     0.513475     0.577759     0.593001     0.600820   \n",
       "75%       1.296737     0.823681     1.134223     0.916507     0.870866   \n",
       "max       2.764825     1.630281     2.684958     1.921679     1.625861   \n",
       "\n",
       "               6            7            8            9            10   ...  \\\n",
       "count  1183.000000  1183.000000  1183.000000  1183.000000  1183.000000  ...   \n",
       "mean      0.309945     0.364149    -0.109253     0.266177     0.319065  ...   \n",
       "std       0.272487     0.490833     0.695189     0.954594     0.588165  ...   \n",
       "min      -1.167070    -1.544223    -4.415136    -4.511126    -4.231728  ...   \n",
       "25%       0.149135     0.033441    -0.479573    -0.249895    -0.010224  ...   \n",
       "50%       0.296540     0.389595     0.069304     0.383010     0.431130  ...   \n",
       "75%       0.478158     0.723837     0.361015     0.842620     0.680238  ...   \n",
       "max       2.333396     1.578393     0.948130     2.473476     1.777087  ...   \n",
       "\n",
       "               127          128          129          130          131  \\\n",
       "count  1183.000000  1183.000000  1183.000000  1183.000000  1183.000000   \n",
       "mean      0.279391    -0.047368    -1.100607    -0.013944    -0.055836   \n",
       "std       0.339419     0.548357     1.140841     0.513201     0.448040   \n",
       "min      -0.694762    -2.934649    -4.756667    -1.590454    -2.083291   \n",
       "25%       0.035802    -0.388233    -1.313533    -0.312271    -0.369149   \n",
       "50%       0.266474    -0.065067    -0.813454    -0.027865    -0.014863   \n",
       "75%       0.500903     0.277808    -0.406336     0.231237     0.251660   \n",
       "max       1.346306     1.813794     0.613177     1.900460     1.689340   \n",
       "\n",
       "               132          133          134          135          136  \n",
       "count  1183.000000  1183.000000  1183.000000  1183.000000  1183.000000  \n",
       "mean     -0.384030    -1.409690    -0.715855    -0.203151    -1.321033  \n",
       "std       0.949714     1.394965     0.500410     0.652111     1.413436  \n",
       "min      -4.416759    -4.689750    -2.757709    -2.284142    -4.758439  \n",
       "25%      -0.942597    -2.184850    -0.999656    -0.618043    -2.024367  \n",
       "50%      -0.418524    -1.188133    -0.748871    -0.185315    -1.009700  \n",
       "75%       0.298140    -0.494342    -0.405844     0.167522    -0.396624  \n",
       "max       2.699499     2.381045     1.094319     2.011000     1.952631  \n",
       "\n",
       "[8 rows x 136 columns]"
      ]
     },
     "execution_count": 8,
     "metadata": {},
     "output_type": "execute_result"
    }
   ],
   "source": [
    "virus_test.describe()"
   ]
  },
  {
   "cell_type": "markdown",
   "metadata": {},
   "source": [
    "# Visualize with histograms"
   ]
  },
  {
   "cell_type": "code",
   "execution_count": 9,
   "metadata": {},
   "outputs": [
    {
     "data": {
      "text/plain": [
       "<matplotlib.axes._subplots.AxesSubplot at 0x24f5f807fc8>"
      ]
     },
     "execution_count": 9,
     "metadata": {},
     "output_type": "execute_result"
    },
    {
     "data": {
      "image/png": "[encoded data removed]",
      "text/plain": [
       "<Figure size 432x288 with 1 Axes>"
      ]
     },
     "metadata": {
      "needs_background": "light"
     },
     "output_type": "display_data"
    }
   ],
   "source": [
    "virus_train[1].plot.hist() \n",
    "# [1] indexes on the first column"
   ]
  },
  {
   "cell_type": "code",
   "execution_count": 10,
   "metadata": {},
   "outputs": [
    {
     "data": {
      "text/plain": [
       "<matplotlib.axes._subplots.AxesSubplot at 0x24f5ef5df08>"
      ]
     },
     "execution_count": 10,
     "metadata": {},
     "output_type": "execute_result"
    },
    {
     "data": {
      "image/png": "[encoded data removed]",
      "text/plain": [
       "<Figure size 432x288 with 1 Axes>"
      ]
     },
     "metadata": {
      "needs_background": "light"
     },
     "output_type": "display_data"
    }
   ],
   "source": [
    "bacteria_train[1].plot.hist()"
   ]
  },
  {
   "cell_type": "code",
   "execution_count": 11,
   "metadata": {},
   "outputs": [
    {
     "data": {
      "text/plain": [
       "<matplotlib.axes._subplots.AxesSubplot at 0x24f5faa7b88>"
      ]
     },
     "execution_count": 11,
     "metadata": {},
     "output_type": "execute_result"
    },
    {
     "data": {
      "image/png": "[encoded data removed]",
      "text/plain": [
       "<Figure size 432x288 with 1 Axes>"
      ]
     },
     "metadata": {
      "needs_background": "light"
     },
     "output_type": "display_data"
    }
   ],
   "source": [
    "eukaryote_train[1].plot.hist()"
   ]
  },
  {
   "cell_type": "code",
   "execution_count": 12,
   "metadata": {},
   "outputs": [
    {
     "data": {
      "text/plain": [
       "<matplotlib.axes._subplots.AxesSubplot at 0x24f62189348>"
      ]
     },
     "execution_count": 12,
     "metadata": {},
     "output_type": "execute_result"
    },
    {
     "data": {
      "image/png": "[encoded data removed]",
      "text/plain": [
       "<Figure size 432x288 with 1 Axes>"
      ]
     },
     "metadata": {
      "needs_background": "light"
     },
     "output_type": "display_data"
    }
   ],
   "source": [
    "archaea_train[1].plot.hist()"
   ]
  },
  {
   "cell_type": "markdown",
   "metadata": {},
   "source": [
    "# Data Wrangling and Preprocessing"
   ]
  },
  {
   "cell_type": "markdown",
   "metadata": {},
   "source": [
    "Required modules"
   ]
  },
  {
   "cell_type": "code",
   "execution_count": 13,
   "metadata": {},
   "outputs": [],
   "source": [
    "from sklearn.model_selection import train_test_split\n",
    "import sklearn\n",
    "from sklearn import preprocessing \n",
    "\n",
    "# https://scikit-learn.org/stable/modules/preprocessing.html\n",
    "#  transform the data to center it by removing the mean value (set mean = 0) \n",
    "# of each feature, then scale it by dividing non-constant features by their standard deviation."
   ]
  },
  {
   "cell_type": "markdown",
   "metadata": {},
   "source": [
    "Define the independent and dependent variables: Train set"
   ]
  },
  {
   "cell_type": "code",
   "execution_count": 14,
   "metadata": {},
   "outputs": [
    {
     "data": {
      "text/html": [
       "<div>\n",
       "<style scoped>\n",
       "    .dataframe tbody tr th:only-of-type {\n",
       "        vertical-align: middle;\n",
       "    }\n",
       "\n",
       "    .dataframe tbody tr th {\n",
       "        vertical-align: top;\n",
       "    }\n",
       "\n",
       "    .dataframe thead th {\n",
       "        text-align: right;\n",
       "    }\n",
       "</style>\n",
       "<table border=\"1\" class=\"dataframe\">\n",
       "  <thead>\n",
       "    <tr style=\"text-align: right;\">\n",
       "      <th></th>\n",
       "      <th>1</th>\n",
       "      <th>2</th>\n",
       "      <th>3</th>\n",
       "      <th>4</th>\n",
       "      <th>5</th>\n",
       "      <th>6</th>\n",
       "      <th>7</th>\n",
       "      <th>8</th>\n",
       "      <th>9</th>\n",
       "      <th>10</th>\n",
       "      <th>...</th>\n",
       "      <th>127</th>\n",
       "      <th>128</th>\n",
       "      <th>129</th>\n",
       "      <th>130</th>\n",
       "      <th>131</th>\n",
       "      <th>132</th>\n",
       "      <th>133</th>\n",
       "      <th>134</th>\n",
       "      <th>135</th>\n",
       "      <th>136</th>\n",
       "    </tr>\n",
       "  </thead>\n",
       "  <tbody>\n",
       "    <tr>\n",
       "      <th>0</th>\n",
       "      <td>0.923856</td>\n",
       "      <td>0.744270</td>\n",
       "      <td>0.950885</td>\n",
       "      <td>0.776531</td>\n",
       "      <td>1.218364</td>\n",
       "      <td>0.603688</td>\n",
       "      <td>0.525217</td>\n",
       "      <td>-0.881697</td>\n",
       "      <td>0.603688</td>\n",
       "      <td>0.346969</td>\n",
       "      <td>...</td>\n",
       "      <td>0.322276</td>\n",
       "      <td>-0.034399</td>\n",
       "      <td>-0.476232</td>\n",
       "      <td>-0.533390</td>\n",
       "      <td>-0.322081</td>\n",
       "      <td>-0.275561</td>\n",
       "      <td>-1.757166</td>\n",
       "      <td>-1.064018</td>\n",
       "      <td>-0.188550</td>\n",
       "      <td>-0.968708</td>\n",
       "    </tr>\n",
       "    <tr>\n",
       "      <th>1</th>\n",
       "      <td>-2.908672</td>\n",
       "      <td>-2.215525</td>\n",
       "      <td>-4.216956</td>\n",
       "      <td>-1.116912</td>\n",
       "      <td>-0.711447</td>\n",
       "      <td>-0.510777</td>\n",
       "      <td>-0.606087</td>\n",
       "      <td>0.135851</td>\n",
       "      <td>-2.908672</td>\n",
       "      <td>-1.299234</td>\n",
       "      <td>...</td>\n",
       "      <td>0.646676</td>\n",
       "      <td>1.381788</td>\n",
       "      <td>0.525315</td>\n",
       "      <td>1.579965</td>\n",
       "      <td>1.613117</td>\n",
       "      <td>1.623928</td>\n",
       "      <td>1.422061</td>\n",
       "      <td>0.458624</td>\n",
       "      <td>1.134379</td>\n",
       "      <td>1.098661</td>\n",
       "    </tr>\n",
       "    <tr>\n",
       "      <th>2</th>\n",
       "      <td>1.051232</td>\n",
       "      <td>0.302822</td>\n",
       "      <td>0.767127</td>\n",
       "      <td>0.723325</td>\n",
       "      <td>0.450458</td>\n",
       "      <td>0.044993</td>\n",
       "      <td>-0.015632</td>\n",
       "      <td>-0.080171</td>\n",
       "      <td>0.836120</td>\n",
       "      <td>0.389833</td>\n",
       "      <td>...</td>\n",
       "      <td>-0.080171</td>\n",
       "      <td>-1.083473</td>\n",
       "      <td>-0.536929</td>\n",
       "      <td>-0.114072</td>\n",
       "      <td>-0.390325</td>\n",
       "      <td>-0.842311</td>\n",
       "      <td>-0.648155</td>\n",
       "      <td>-1.284143</td>\n",
       "      <td>-0.916419</td>\n",
       "      <td>-0.842311</td>\n",
       "    </tr>\n",
       "    <tr>\n",
       "      <th>3</th>\n",
       "      <td>0.574149</td>\n",
       "      <td>0.405527</td>\n",
       "      <td>0.733214</td>\n",
       "      <td>0.320369</td>\n",
       "      <td>0.804166</td>\n",
       "      <td>0.464950</td>\n",
       "      <td>0.297896</td>\n",
       "      <td>0.320369</td>\n",
       "      <td>0.405527</td>\n",
       "      <td>0.124624</td>\n",
       "      <td>...</td>\n",
       "      <td>0.483998</td>\n",
       "      <td>0.097225</td>\n",
       "      <td>-3.486294</td>\n",
       "      <td>-0.395251</td>\n",
       "      <td>0.124624</td>\n",
       "      <td>-0.350799</td>\n",
       "      <td>-0.713705</td>\n",
       "      <td>-0.713705</td>\n",
       "      <td>-0.085096</td>\n",
       "      <td>-1.406852</td>\n",
       "    </tr>\n",
       "    <tr>\n",
       "      <th>4</th>\n",
       "      <td>1.264798</td>\n",
       "      <td>0.909457</td>\n",
       "      <td>1.319357</td>\n",
       "      <td>0.922702</td>\n",
       "      <td>0.766356</td>\n",
       "      <td>0.442117</td>\n",
       "      <td>0.652412</td>\n",
       "      <td>-0.075826</td>\n",
       "      <td>0.868635</td>\n",
       "      <td>0.280848</td>\n",
       "      <td>...</td>\n",
       "      <td>0.229555</td>\n",
       "      <td>-0.412299</td>\n",
       "      <td>-1.105446</td>\n",
       "      <td>-0.699981</td>\n",
       "      <td>-0.463592</td>\n",
       "      <td>-1.010136</td>\n",
       "      <td>-1.105446</td>\n",
       "      <td>-0.574818</td>\n",
       "      <td>-0.363509</td>\n",
       "      <td>-2.309419</td>\n",
       "    </tr>\n",
       "  </tbody>\n",
       "</table>\n",
       "<p>5 rows × 136 columns</p>\n",
       "</div>"
      ],
      "text/plain": [
       "        1         2         3         4         5         6         7    \\\n",
       "0  0.923856  0.744270  0.950885  0.776531  1.218364  0.603688  0.525217   \n",
       "1 -2.908672 -2.215525 -4.216956 -1.116912 -0.711447 -0.510777 -0.606087   \n",
       "2  1.051232  0.302822  0.767127  0.723325  0.450458  0.044993 -0.015632   \n",
       "3  0.574149  0.405527  0.733214  0.320369  0.804166  0.464950  0.297896   \n",
       "4  1.264798  0.909457  1.319357  0.922702  0.766356  0.442117  0.652412   \n",
       "\n",
       "        8         9         10   ...       127       128       129       130  \\\n",
       "0 -0.881697  0.603688  0.346969  ...  0.322276 -0.034399 -0.476232 -0.533390   \n",
       "1  0.135851 -2.908672 -1.299234  ...  0.646676  1.381788  0.525315  1.579965   \n",
       "2 -0.080171  0.836120  0.389833  ... -0.080171 -1.083473 -0.536929 -0.114072   \n",
       "3  0.320369  0.405527  0.124624  ...  0.483998  0.097225 -3.486294 -0.395251   \n",
       "4 -0.075826  0.868635  0.280848  ...  0.229555 -0.412299 -1.105446 -0.699981   \n",
       "\n",
       "        131       132       133       134       135       136  \n",
       "0 -0.322081 -0.275561 -1.757166 -1.064018 -0.188550 -0.968708  \n",
       "1  1.613117  1.623928  1.422061  0.458624  1.134379  1.098661  \n",
       "2 -0.390325 -0.842311 -0.648155 -1.284143 -0.916419 -0.842311  \n",
       "3  0.124624 -0.350799 -0.713705 -0.713705 -0.085096 -1.406852  \n",
       "4 -0.463592 -1.010136 -1.105446 -0.574818 -0.363509 -2.309419  \n",
       "\n",
       "[5 rows x 136 columns]"
      ]
     },
     "execution_count": 14,
     "metadata": {},
     "output_type": "execute_result"
    }
   ],
   "source": [
    "#### starting with virus and bacteria ####\n",
    "# we already have our train and test sets separated\n",
    "\n",
    "# Append the training data sets together\n",
    "# Binary variable 0 = bacteria; 1 = virus\n",
    "\n",
    "X_train = virus_train.append(bacteria_train)\n",
    "X_train.head()"
   ]
  },
  {
   "cell_type": "code",
   "execution_count": 15,
   "metadata": {},
   "outputs": [],
   "source": [
    "# y variable: for all observations in virus_train dataset, make one dimension of \"1\" = a column of 1s\n",
    "# the length of the virus_train dataset\n",
    "y_train = [1 for x in range(virus_train.shape[0])]\n",
    "\n",
    "# repeat for bacteria and extend y with the new values\n",
    "y_train.extend([0 for x in range(bacteria_train.shape[0])])"
   ]
  },
  {
   "cell_type": "markdown",
   "metadata": {},
   "source": [
    "Now we have y_train and X_train datasets \n",
    "\n",
    "Define the independent and dependent variables: Test set"
   ]
  },
  {
   "cell_type": "code",
   "execution_count": 16,
   "metadata": {},
   "outputs": [],
   "source": [
    "X_test = virus_test.append(bacteria_test)\n",
    "y_test = [0 for x in range(virus_test.shape[0])]\n",
    "y_test.extend([1 for x in range(bacteria_test.shape[0])])"
   ]
  },
  {
   "cell_type": "markdown",
   "metadata": {},
   "source": [
    "Standardize each feature (=column) in the training sets"
   ]
  },
  {
   "cell_type": "code",
   "execution_count": 17,
   "metadata": {},
   "outputs": [
    {
     "data": {
      "text/plain": [
       "numpy.ndarray"
      ]
     },
     "execution_count": 17,
     "metadata": {},
     "output_type": "execute_result"
    }
   ],
   "source": [
    "# Standardize each feature (columns) in the traininng sets\n",
    "\n",
    "scaler = preprocessing.StandardScaler().fit(X_train)\n",
    "X_train_transformed = scaler.transform(X_train)\n",
    "\n",
    "X_test_transformed = scaler.transform(X_test)\n",
    "type(X_test_transformed)"
   ]
  },
  {
   "cell_type": "markdown",
   "metadata": {},
   "source": [
    "Los variables:\n",
    "\n",
    "X_train_transformed\n",
    "\n",
    "X_test_transformed\n",
    "\n",
    "y_test\n",
    "\n",
    "y_train"
   ]
  },
  {
   "cell_type": "markdown",
   "metadata": {},
   "source": [
    "### Using logistic regression to predict taxa by kmer pattern similarity"
   ]
  },
  {
   "cell_type": "markdown",
   "metadata": {},
   "source": [
    "The modules"
   ]
  },
  {
   "cell_type": "code",
   "execution_count": 18,
   "metadata": {},
   "outputs": [],
   "source": [
    "from sklearn.linear_model import LogisticRegression\n",
    "from sklearn.metrics import f1_score"
   ]
  },
  {
   "cell_type": "markdown",
   "metadata": {},
   "source": [
    "reshuffle data for the model"
   ]
  },
  {
   "cell_type": "code",
   "execution_count": 19,
   "metadata": {},
   "outputs": [
    {
     "name": "stdout",
     "output_type": "stream",
     "text": [
      "<class 'list'>\n",
      "<class 'list'>\n",
      "<class 'numpy.ndarray'>\n",
      "<class 'numpy.ndarray'>\n"
     ]
    }
   ],
   "source": [
    "# Check the Data types\n",
    "\n",
    "print(type(y_test))\n",
    "print(type(y_train))\n",
    "print(type(X_train_transformed))\n",
    "print(type(X_test_transformed))"
   ]
  },
  {
   "cell_type": "code",
   "execution_count": 20,
   "metadata": {
    "scrolled": true
   },
   "outputs": [
    {
     "name": "stdout",
     "output_type": "stream",
     "text": [
      "<class 'numpy.ndarray'>\n",
      "<class 'numpy.ndarray'>\n"
     ]
    }
   ],
   "source": [
    "# convert y datasets from strings to arrays\n",
    "\n",
    "y_test = np.array(y_test)\n",
    "y_train = np.array(y_train)\n",
    "print(type(y_train))\n",
    "print(type(y_test))"
   ]
  },
  {
   "cell_type": "code",
   "execution_count": 21,
   "metadata": {},
   "outputs": [
    {
     "name": "stdout",
     "output_type": "stream",
     "text": [
      "(3707,)\n",
      "(21651,)\n",
      "(3707, 136)\n",
      "(21651, 136)\n"
     ]
    }
   ],
   "source": [
    "# print arrays (rows, columns)\n",
    "\n",
    "print(y_test.shape)\n",
    "print(y_train.shape)\n",
    "print(X_test_transformed.shape)\n",
    "print(X_train_transformed.shape)"
   ]
  },
  {
   "cell_type": "code",
   "execution_count": 22,
   "metadata": {},
   "outputs": [],
   "source": [
    "# Random order in the data\n",
    "\n",
    "random_1 = np.random.permutation(len(X_train_transformed))\n",
    "random_2 = np.random.permutation(len(X_test_transformed))"
   ]
  },
  {
   "cell_type": "code",
   "execution_count": 23,
   "metadata": {},
   "outputs": [],
   "source": [
    "X_train_transformed = X_train_transformed[random_1][0:21651]\n",
    "y_train = y_train[random_1][0:21651]\n",
    "\n",
    "X_test_transformed = X_test_transformed[random_2][0:3707]\n",
    "y_test = y_test[random_2][0:3707]"
   ]
  },
  {
   "cell_type": "code",
   "execution_count": 24,
   "metadata": {},
   "outputs": [],
   "source": [
    "X = X_train_transformed\n",
    "y = y_train"
   ]
  },
  {
   "cell_type": "code",
   "execution_count": 25,
   "metadata": {},
   "outputs": [],
   "source": [
    "######### from prev code ###########\n",
    "\n",
    "# X_train, X_test_shuffled, y_train, y_test_shuffled = train_test_split(\n",
    "#    X, y,\n",
    "#    shuffle=True,\n",
    "#    test_size=21650,\n",
    "#    random_state=1)\n",
    "\n",
    "# train_test_split splits arrays or matrices into random train and test subsets\n",
    "# shuffle = True --- shuffling "
   ]
  },
  {
   "cell_type": "markdown",
   "metadata": {},
   "source": [
    "## The Logistic Regression execution"
   ]
  },
  {
   "cell_type": "code",
   "execution_count": 26,
   "metadata": {},
   "outputs": [],
   "source": [
    "logmodel = LogisticRegression(max_iter=100000)\n",
    "\n",
    "# default set to l2 is ok"
   ]
  },
  {
   "cell_type": "code",
   "execution_count": 27,
   "metadata": {},
   "outputs": [
    {
     "data": {
      "text/plain": [
       "0.10871324521176154"
      ]
     },
     "execution_count": 27,
     "metadata": {},
     "output_type": "execute_result"
    }
   ],
   "source": [
    "logmodel_fit = logmodel.fit(X_train_transformed, y_train)\n",
    "\n",
    "logmodel_fit.score(X_test_transformed, y_test)"
   ]
  },
  {
   "cell_type": "markdown",
   "metadata": {},
   "source": [
    "performance = 0.11"
   ]
  },
  {
   "cell_type": "markdown",
   "metadata": {},
   "source": [
    "Check the probabilities for the training set"
   ]
  },
  {
   "cell_type": "code",
   "execution_count": 28,
   "metadata": {},
   "outputs": [],
   "source": [
    "prob_vir_bac = logmodel.predict_proba(X_train_transformed)"
   ]
  },
  {
   "cell_type": "code",
   "execution_count": 29,
   "metadata": {},
   "outputs": [
    {
     "data": {
      "text/plain": [
       "array([[3.37248748e-02, 9.66275125e-01],\n",
       "       [1.51849940e-01, 8.48150060e-01],\n",
       "       [9.46090555e-01, 5.39094455e-02],\n",
       "       ...,\n",
       "       [4.86331729e-01, 5.13668271e-01],\n",
       "       [9.99526627e-01, 4.73372615e-04],\n",
       "       [9.50570932e-01, 4.94290676e-02]])"
      ]
     },
     "execution_count": 29,
     "metadata": {},
     "output_type": "execute_result"
    }
   ],
   "source": [
    "prob_vir_bac"
   ]
  },
  {
   "cell_type": "code",
   "execution_count": 30,
   "metadata": {
    "scrolled": true
   },
   "outputs": [
    {
     "name": "stdout",
     "output_type": "stream",
     "text": [
      "(21651, 2)\n",
      "<class 'pandas.core.frame.DataFrame'>\n"
     ]
    },
    {
     "data": {
      "text/html": [
       "<div>\n",
       "<style scoped>\n",
       "    .dataframe tbody tr th:only-of-type {\n",
       "        vertical-align: middle;\n",
       "    }\n",
       "\n",
       "    .dataframe tbody tr th {\n",
       "        vertical-align: top;\n",
       "    }\n",
       "\n",
       "    .dataframe thead th {\n",
       "        text-align: right;\n",
       "    }\n",
       "</style>\n",
       "<table border=\"1\" class=\"dataframe\">\n",
       "  <thead>\n",
       "    <tr style=\"text-align: right;\">\n",
       "      <th></th>\n",
       "      <th>prob_not_virus</th>\n",
       "      <th>prob_virus</th>\n",
       "      <th>Group</th>\n",
       "    </tr>\n",
       "  </thead>\n",
       "  <tbody>\n",
       "    <tr>\n",
       "      <th>0</th>\n",
       "      <td>0.033725</td>\n",
       "      <td>0.966275</td>\n",
       "      <td>1</td>\n",
       "    </tr>\n",
       "    <tr>\n",
       "      <th>1</th>\n",
       "      <td>0.151850</td>\n",
       "      <td>0.848150</td>\n",
       "      <td>1</td>\n",
       "    </tr>\n",
       "    <tr>\n",
       "      <th>2</th>\n",
       "      <td>0.946091</td>\n",
       "      <td>0.053909</td>\n",
       "      <td>0</td>\n",
       "    </tr>\n",
       "    <tr>\n",
       "      <th>3</th>\n",
       "      <td>0.929052</td>\n",
       "      <td>0.070948</td>\n",
       "      <td>0</td>\n",
       "    </tr>\n",
       "    <tr>\n",
       "      <th>4</th>\n",
       "      <td>0.925320</td>\n",
       "      <td>0.074680</td>\n",
       "      <td>0</td>\n",
       "    </tr>\n",
       "  </tbody>\n",
       "</table>\n",
       "</div>"
      ],
      "text/plain": [
       "   prob_not_virus  prob_virus  Group\n",
       "0        0.033725    0.966275      1\n",
       "1        0.151850    0.848150      1\n",
       "2        0.946091    0.053909      0\n",
       "3        0.929052    0.070948      0\n",
       "4        0.925320    0.074680      0"
      ]
     },
     "execution_count": 30,
     "metadata": {},
     "output_type": "execute_result"
    }
   ],
   "source": [
    "print(prob_vir_bac.shape)\n",
    "\n",
    "prob_df = pd.DataFrame(data=prob_vir_bac,\n",
    "                          columns=[\"prob_not_virus\", \"prob_virus\"])\n",
    "\n",
    "\n",
    "# add y_train to this df\n",
    "prob_df['Group'] = y_train\n",
    "\n",
    "print(type(prob_df))\n",
    "prob_df.head()\n",
    "# X_train_transformed"
   ]
  },
  {
   "cell_type": "code",
   "execution_count": 42,
   "metadata": {},
   "outputs": [
    {
     "data": {
      "text/plain": [
       "<matplotlib.collections.PathCollection at 0x24f66693788>"
      ]
     },
     "execution_count": 42,
     "metadata": {},
     "output_type": "execute_result"
    },
    {
     "data": {
      "image/png": "[encoded data removed]",
      "text/plain": [
       "<Figure size 432x288 with 1 Axes>"
      ]
     },
     "metadata": {
      "needs_background": "light"
     },
     "output_type": "display_data"
    }
   ],
   "source": [
    "plt.scatter(prob_df.prob_not_virus,\n",
    "            prob_df.prob_virus,\n",
    "            c=prob_df.Group)"
   ]
  },
  {
   "cell_type": "code",
   "execution_count": 64,
   "metadata": {
    "scrolled": true
   },
   "outputs": [
    {
     "data": {
      "text/plain": [
       "<matplotlib.axes._subplots.AxesSubplot at 0x24f69180e88>"
      ]
     },
     "execution_count": 64,
     "metadata": {},
     "output_type": "execute_result"
    },
    {
     "data": {
      "image/png": "[encoded data removed]",
      "text/plain": [
       "<Figure size 432x288 with 1 Axes>"
      ]
     },
     "metadata": {
      "needs_background": "light"
     },
     "output_type": "display_data"
    }
   ],
   "source": [
    "sns.scatterplot(x = prob_df.prob_not_virus, \n",
    "                y = prob_df.prob_not_virus,\n",
    "               hue = prob_df.Group)\n"
   ]
  },
  {
   "cell_type": "markdown",
   "metadata": {},
   "source": [
    "#### Now apply our regression model to the test data to see how it performs"
   ]
  },
  {
   "cell_type": "code",
   "execution_count": 48,
   "metadata": {},
   "outputs": [
    {
     "name": "stdout",
     "output_type": "stream",
     "text": [
      "[1 0 0 ... 0 1 0]\n"
     ]
    }
   ],
   "source": [
    "predictions = logmodel.predict(X_test_transformed)\n",
    "print(predictions)"
   ]
  },
  {
   "cell_type": "code",
   "execution_count": 49,
   "metadata": {},
   "outputs": [
    {
     "data": {
      "text/plain": [
       "array([[ 197,  986],\n",
       "       [2318,  206]], dtype=int64)"
      ]
     },
     "execution_count": 49,
     "metadata": {},
     "output_type": "execute_result"
    }
   ],
   "source": [
    "# Confusion matrix\n",
    "\n",
    "from sklearn.metrics import confusion_matrix\n",
    "confusion_matrix(y_test, predictions)"
   ]
  },
  {
   "cell_type": "markdown",
   "metadata": {},
   "source": [
    "               predicted not virus  | predicted virus\n",
    "    actual no     197                        986\n",
    "    actual yes    2318                       206               "
   ]
  },
  {
   "cell_type": "markdown",
   "metadata": {},
   "source": [
    "## Metric: Dummy Classifier"
   ]
  },
  {
   "cell_type": "markdown",
   "metadata": {},
   "source": [
    "DummyClassifier is a classifier that makes predicitions using simple rules\n",
    "\n",
    "This classifier is a useful baseline to comapre with real classifiers\n",
    "and is not to be used on real problems"
   ]
  },
  {
   "cell_type": "code",
   "execution_count": 50,
   "metadata": {},
   "outputs": [],
   "source": [
    "from sklearn.dummy import DummyClassifier"
   ]
  },
  {
   "cell_type": "code",
   "execution_count": 65,
   "metadata": {},
   "outputs": [
    {
     "data": {
      "text/plain": [
       "0.6805690268347883"
      ]
     },
     "execution_count": 65,
     "metadata": {},
     "output_type": "execute_result"
    }
   ],
   "source": [
    "# X = X_train_transformed\n",
    "# y = y_train\n",
    "\n",
    "dummy_clf = DummyClassifier(strategy=\"most_frequent\")\n",
    "dummy_clf.fit(X, y)\n",
    "DummyClassifier(strategy='most_frequent')\n",
    "dummy_clf.predict(X)\n",
    "dummy_clf.score(X, y)"
   ]
  },
  {
   "cell_type": "code",
   "execution_count": 66,
   "metadata": {},
   "outputs": [
    {
     "data": {
      "text/plain": [
       "0.6808740221203129"
      ]
     },
     "execution_count": 66,
     "metadata": {},
     "output_type": "execute_result"
    }
   ],
   "source": [
    "dummy_clf = DummyClassifier(strategy=\"most_frequent\")\n",
    "dummy_clf.fit(X_test_transformed, y_test)\n",
    "DummyClassifier(strategy='most_frequent')\n",
    "dummy_clf.predict(X_test_transformed)\n",
    "dummy_clf.score(X_test_transformed, y_test)"
   ]
  },
  {
   "cell_type": "markdown",
   "metadata": {},
   "source": [
    "# Remaining groups in even data set"
   ]
  },
  {
   "cell_type": "code",
   "execution_count": null,
   "metadata": {},
   "outputs": [],
   "source": []
  },
  {
   "cell_type": "code",
   "execution_count": null,
   "metadata": {},
   "outputs": [],
   "source": []
  },
  {
   "cell_type": "code",
   "execution_count": null,
   "metadata": {},
   "outputs": [],
   "source": []
  },
  {
   "cell_type": "markdown",
   "metadata": {},
   "source": [
    "## The data: uneven split"
   ]
  },
  {
   "cell_type": "code",
   "execution_count": null,
   "metadata": {},
   "outputs": [],
   "source": []
  },
  {
   "cell_type": "code",
   "execution_count": null,
   "metadata": {},
   "outputs": [],
   "source": []
  },
  {
   "cell_type": "code",
   "execution_count": null,
   "metadata": {},
   "outputs": [],
   "source": []
  },
  {
   "cell_type": "code",
   "execution_count": null,
   "metadata": {},
   "outputs": [],
   "source": []
  }
 ],
 "metadata": {
  "kernelspec": {
   "display_name": "Python 3",
   "language": "python",
   "name": "python3"
  },
  "language_info": {
   "codemirror_mode": {
    "name": "ipython",
    "version": 3
   },
   "file_extension": ".py",
   "mimetype": "text/x-python",
   "name": "python",
   "nbconvert_exporter": "python",
   "pygments_lexer": "ipython3",
   "version": "3.7.6"
  }
 },
 "nbformat": 4,
 "nbformat_minor": 4
}
